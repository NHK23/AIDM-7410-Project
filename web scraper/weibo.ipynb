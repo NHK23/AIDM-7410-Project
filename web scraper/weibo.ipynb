{
 "cells": [
  {
   "cell_type": "code",
   "execution_count": 7,
   "metadata": {},
   "outputs": [],
   "source": [
    "import pandas as pd\n",
    "import numpy as np\n",
    "import time\n",
    "from selenium import webdriver\n",
    "from selenium.webdriver.common.by import By\n",
    "from selenium.common.exceptions import NoSuchElementException"
   ]
  },
  {
   "cell_type": "code",
   "execution_count": 9,
   "metadata": {},
   "outputs": [],
   "source": [
    "driver = webdriver.Chrome()"
   ]
  },
  {
   "attachments": {},
   "cell_type": "markdown",
   "metadata": {},
   "source": [
    "### 综合搜索 cpr 女性"
   ]
  },
  {
   "cell_type": "code",
   "execution_count": 10,
   "metadata": {},
   "outputs": [],
   "source": [
    "driver.get('https://m.weibo.cn/search?containerid=100103type%3D1%26q%3Dcpr%20%E5%A5%B3%E6%80%A7')\n",
    "time.sleep(3)"
   ]
  },
  {
   "cell_type": "code",
   "execution_count": 11,
   "metadata": {},
   "outputs": [],
   "source": [
    "# 下拉到底部, 加载所有数据\n",
    "messages = driver.find_elements(By.XPATH, '//div[@data-v-47035aba=\"\"]')[4:]\n",
    "prev_len = 0\n",
    "curr_len = len(messages)\n",
    "\n",
    "while True:\n",
    "    if prev_len != curr_len:\n",
    "        driver.execute_script(\"window.scrollTo(0, document.body.scrollHeight);\")\n",
    "        messages = driver.find_elements(By.XPATH, '//div[@data-v-47035aba=\"\"]')[4:]\n",
    "        prev_len = curr_len\n",
    "        curr_len = len(messages)\n",
    "        time.sleep(3)\n",
    "    else:\n",
    "        break"
   ]
  },
  {
   "cell_type": "code",
   "execution_count": 5,
   "metadata": {},
   "outputs": [],
   "source": [
    "df = pd.DataFrame(columns=['id', 'content'])"
   ]
  },
  {
   "cell_type": "code",
   "execution_count": 6,
   "metadata": {},
   "outputs": [],
   "source": [
    "for message in messages:\n",
    "    try:\n",
    "        id = message.find_element(By.XPATH, './/h3[@class=\"m-text-cut\"]').text\n",
    "    except NoSuchElementException:\n",
    "        0\n",
    "\n",
    "    try:\n",
    "        content = message.find_element(By.XPATH, './/div[@class=\"weibo-text\"]').text\n",
    "    except NoSuchElementException:\n",
    "        0\n",
    "\n",
    "    df.loc[len(df), 'id'] = id\n",
    "    df.loc[len(df) - 1, 'content'] = content"
   ]
  },
  {
   "cell_type": "code",
   "execution_count": 12,
   "metadata": {},
   "outputs": [
    {
     "data": {
      "text/html": [
       "<div>\n",
       "<style scoped>\n",
       "    .dataframe tbody tr th:only-of-type {\n",
       "        vertical-align: middle;\n",
       "    }\n",
       "\n",
       "    .dataframe tbody tr th {\n",
       "        vertical-align: top;\n",
       "    }\n",
       "\n",
       "    .dataframe thead th {\n",
       "        text-align: right;\n",
       "    }\n",
       "</style>\n",
       "<table border=\"1\" class=\"dataframe\">\n",
       "  <thead>\n",
       "    <tr style=\"text-align: right;\">\n",
       "      <th></th>\n",
       "      <th>id</th>\n",
       "      <th>content</th>\n",
       "    </tr>\n",
       "  </thead>\n",
       "  <tbody>\n",
       "    <tr>\n",
       "      <th>0</th>\n",
       "      <td>头条新闻</td>\n",
       "      <td>【#意大利向女性免费提供避孕药#】据界面新闻报道：意媒消息，意大利药品管理局（Aifa）的价...</td>\n",
       "    </tr>\n",
       "    <tr>\n",
       "      <th>1</th>\n",
       "      <td>三联生活周刊</td>\n",
       "      <td>【#意大利将向所有女性免费提供口服避孕药#】据界面新闻，据意大利通讯社（AGI）和《信使报》...</td>\n",
       "    </tr>\n",
       "    <tr>\n",
       "      <th>2</th>\n",
       "      <td>仲说纷莹</td>\n",
       "      <td>当 CPR 有性别偏见，女性死于心脏骤停 当 CPR 有性别偏见，女性死于心脏骤停</td>\n",
       "    </tr>\n",
       "    <tr>\n",
       "      <th>3</th>\n",
       "      <td>圣元爱心园地</td>\n",
       "      <td>【意大利将向所有女性免费提供口服避孕药】据意大利通讯社（AGI）和《信使报》（Il Mess...</td>\n",
       "    </tr>\n",
       "    <tr>\n",
       "      <th>4</th>\n",
       "      <td>财富中文网</td>\n",
       "      <td>【#意大利向女性免费提供口服避孕药#】据意媒4月22日消息，意大利药品管理局（Aifa）的价...</td>\n",
       "    </tr>\n",
       "  </tbody>\n",
       "</table>\n",
       "</div>"
      ],
      "text/plain": [
       "       id                                            content\n",
       "0    头条新闻  【#意大利向女性免费提供避孕药#】据界面新闻报道：意媒消息，意大利药品管理局（Aifa）的价...\n",
       "1  三联生活周刊  【#意大利将向所有女性免费提供口服避孕药#】据界面新闻，据意大利通讯社（AGI）和《信使报》...\n",
       "2    仲说纷莹          当 CPR 有性别偏见，女性死于心脏骤停 当 CPR 有性别偏见，女性死于心脏骤停\n",
       "3  圣元爱心园地  【意大利将向所有女性免费提供口服避孕药】据意大利通讯社（AGI）和《信使报》（Il Mess...\n",
       "4   财富中文网  【#意大利向女性免费提供口服避孕药#】据意媒4月22日消息，意大利药品管理局（Aifa）的价..."
      ]
     },
     "execution_count": 12,
     "metadata": {},
     "output_type": "execute_result"
    }
   ],
   "source": [
    "# 删除df中id重复的行\n",
    "df.drop_duplicates(subset=['id'], inplace=True)\n",
    "df.to_csv('weibo.csv', index=False, encoding='utf-8-sig')\n",
    "df.head(5)"
   ]
  },
  {
   "cell_type": "code",
   "execution_count": 13,
   "metadata": {},
   "outputs": [],
   "source": [
    "driver.close()"
   ]
  }
 ],
 "metadata": {
  "kernelspec": {
   "display_name": "base",
   "language": "python",
   "name": "python3"
  },
  "language_info": {
   "codemirror_mode": {
    "name": "ipython",
    "version": 3
   },
   "file_extension": ".py",
   "mimetype": "text/x-python",
   "name": "python",
   "nbconvert_exporter": "python",
   "pygments_lexer": "ipython3",
   "version": "3.10.9"
  },
  "orig_nbformat": 4
 },
 "nbformat": 4,
 "nbformat_minor": 2
}
