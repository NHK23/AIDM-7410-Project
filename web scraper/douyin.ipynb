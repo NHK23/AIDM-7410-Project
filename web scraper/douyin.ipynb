{
 "cells": [
  {
   "cell_type": "code",
   "execution_count": 1,
   "metadata": {},
   "outputs": [],
   "source": [
    "import pandas as pd\n",
    "import time\n",
    "from selenium import webdriver\n",
    "from selenium.webdriver.common.by import By"
   ]
  },
  {
   "cell_type": "code",
   "execution_count": 11,
   "metadata": {},
   "outputs": [],
   "source": [
    "driver = webdriver.Chrome()"
   ]
  },
  {
   "cell_type": "code",
   "execution_count": 12,
   "metadata": {},
   "outputs": [],
   "source": [
    "# 打开抖音\n",
    "# driver.get('https://www.douyin.com/search/cpr?publish_time=0&sort_type=0&source=switch_tab&type=video')\n",
    "driver.get('https://www.douyin.com/search/cpr%E6%95%99%E5%AD%A6?aid=cab22447-dc97-43d9-bb28-f1c528b626fd&publish_time=0&sort_type=0&source=normal_search&type=video')\n",
    "time.sleep(2)"
   ]
  },
  {
   "cell_type": "code",
   "execution_count": 4,
   "metadata": {},
   "outputs": [],
   "source": [
    "df = pd.DataFrame(columns=['Published_Name', 'Title', 'link'])"
   ]
  },
  {
   "cell_type": "code",
   "execution_count": 13,
   "metadata": {},
   "outputs": [],
   "source": [
    "RECORD_TIME = 300   # 记录词条数量"
   ]
  },
  {
   "cell_type": "code",
   "execution_count": 14,
   "metadata": {},
   "outputs": [
    {
     "name": "stdout",
     "output_type": "stream",
     "text": [
      "Reached end of page, and only 214 items found\n"
     ]
    }
   ],
   "source": [
    "# 获取初始内容数量\n",
    "content_elements = driver.find_elements(By.XPATH, '//li[@class = \"aCTzxbOJ pYgrEk__\"]')  # 根据实际情况替换为相应的CSS选择器\n",
    "content_count = len(content_elements)\n",
    "\n",
    "# 标识是否已滚动到底部\n",
    "reached_end = False\n",
    "\n",
    "# 模拟滚动，直到内容数量达到300条\n",
    "while content_count < RECORD_TIME and not reached_end:\n",
    "    # 记录滚动前的页面高度\n",
    "    prev_scroll_height = driver.execute_script('return document.body.scrollHeight;')\n",
    "\n",
    "    # 模拟向下滚动\n",
    "    driver.execute_script('window.scrollTo(0, document.body.scrollHeight);')\n",
    "    time.sleep(2)  # 适当暂停，等待页面加载\n",
    "\n",
    "    # 检查页面是否已滚动到底部\n",
    "    new_scroll_height = driver.execute_script('return document.body.scrollHeight;')\n",
    "    if new_scroll_height == prev_scroll_height:\n",
    "        # 如果页面高度没有变化，说明已经滚动到底部\n",
    "        reached_end = True\n",
    "        break\n",
    "\n",
    "    # 再次获取内容数量\n",
    "    content_elements = driver.find_elements(By.XPATH, '//li[@class = \"aCTzxbOJ pYgrEk__\"]')  # 根据实际情况替换为相应的CSS选择器\n",
    "    content_count = len(content_elements)\n",
    "\n",
    "if reached_end:\n",
    "    print('Reached end of page, and only {} items found'.format(content_count))\n",
    "else:\n",
    "    print('Reached target count:{}'.format(content_count))\n",
    "\n",
    "# 处理和爬取内容\n",
    "temp_index = 0\n",
    "for element in content_elements:\n",
    "    # 获取发布者名称\n",
    "    published_name = element.find_element(By.XPATH, './/span[@class = \"OhTcPZd3\"]').text\n",
    "    df.loc[temp_index, 'Published_Name'] = published_name\n",
    "    # 获取标题\n",
    "    title = element.find_element(By.XPATH, './/div[@class = \"swoZuiEM\"]').text\n",
    "    df.loc[temp_index, 'Title'] = title\n",
    "    # 获取链接\n",
    "    link = element.find_element(By.XPATH, './/a').get_attribute('href')\n",
    "    df.loc[temp_index, 'link'] = link\n",
    "    \n",
    "    temp_index += 1"
   ]
  },
  {
   "cell_type": "code",
   "execution_count": 15,
   "metadata": {},
   "outputs": [
    {
     "data": {
      "text/html": [
       "<div>\n",
       "<style scoped>\n",
       "    .dataframe tbody tr th:only-of-type {\n",
       "        vertical-align: middle;\n",
       "    }\n",
       "\n",
       "    .dataframe tbody tr th {\n",
       "        vertical-align: top;\n",
       "    }\n",
       "\n",
       "    .dataframe thead th {\n",
       "        text-align: right;\n",
       "    }\n",
       "</style>\n",
       "<table border=\"1\" class=\"dataframe\">\n",
       "  <thead>\n",
       "    <tr style=\"text-align: right;\">\n",
       "      <th></th>\n",
       "      <th>Published_Name</th>\n",
       "      <th>Title</th>\n",
       "      <th>link</th>\n",
       "    </tr>\n",
       "  </thead>\n",
       "  <tbody>\n",
       "    <tr>\n",
       "      <th>0</th>\n",
       "      <td>申庭田田初级护师加油站</td>\n",
       "      <td>护理操作示范视频-CPR#护士 #护士懂护士#护考</td>\n",
       "      <td>https://www.douyin.com/video/7110119828421184775</td>\n",
       "    </tr>\n",
       "    <tr>\n",
       "      <th>1</th>\n",
       "      <td>急救大白叔</td>\n",
       "      <td>大白叔解惑：CPR时，胸外按压“怎么按”？ #急救#科普 #心肺复苏 #救人 #热门</td>\n",
       "      <td>https://www.douyin.com/video/7002210199243066665</td>\n",
       "    </tr>\n",
       "    <tr>\n",
       "      <th>2</th>\n",
       "      <td>浙江名医馆</td>\n",
       "      <td>心肺复苏（CPR）有哪些要点？快来跟着医护一起学 #心肺复苏 #健康科普 #CPR #教学</td>\n",
       "      <td>https://www.douyin.com/video/7220715900591148348</td>\n",
       "    </tr>\n",
       "    <tr>\n",
       "      <th>3</th>\n",
       "      <td>崇州市中医医院</td>\n",
       "      <td>接上期视频，所以“正确的CPR该怎么做？” 以上是我院杨露、周珊、廖小儀在成都护理学会举办的...</td>\n",
       "      <td>https://www.douyin.com/video/7174010618868010255</td>\n",
       "    </tr>\n",
       "    <tr>\n",
       "      <th>4</th>\n",
       "      <td>护你一世周全</td>\n",
       "      <td>心肺复苏，一个人人都应该会的抢救生命技能，但愿永远用不上#医学知识科普 #急救 #急救技能</td>\n",
       "      <td>https://www.douyin.com/video/7028796209082928420</td>\n",
       "    </tr>\n",
       "    <tr>\n",
       "      <th>...</th>\n",
       "      <td>...</td>\n",
       "      <td>...</td>\n",
       "      <td>...</td>\n",
       "    </tr>\n",
       "    <tr>\n",
       "      <th>209</th>\n",
       "      <td>应急救护师资</td>\n",
       "      <td></td>\n",
       "      <td>https://www.douyin.com/video/6952157281882623263</td>\n",
       "    </tr>\n",
       "    <tr>\n",
       "      <th>210</th>\n",
       "      <td>玉玊</td>\n",
       "      <td>心肺复苏技能的示范、练习，绝对禁止在真人身上做！！！</td>\n",
       "      <td>https://www.douyin.com/video/6612620789613071629</td>\n",
       "    </tr>\n",
       "    <tr>\n",
       "      <th>211</th>\n",
       "      <td>rcyy2020</td>\n",
       "      <td>瑞成小课堂 #心肺复苏 #急救技能</td>\n",
       "      <td>https://www.douyin.com/video/7005481163515006244</td>\n",
       "    </tr>\n",
       "    <tr>\n",
       "      <th>212</th>\n",
       "      <td>晓晓晓星</td>\n",
       "      <td>人人学急救，急救为人人。急救小课堂开课啦！全新的急协为你带来的cpr操作步骤展示。生命无彩排...</td>\n",
       "      <td>https://www.douyin.com/video/7170681336825400580</td>\n",
       "    </tr>\n",
       "    <tr>\n",
       "      <th>213</th>\n",
       "      <td>@开心</td>\n",
       "      <td>CPR急救早已纳入国民教学，人人学急救，急救为人人，愿人人安康</td>\n",
       "      <td>https://www.douyin.com/video/6931702565092527363</td>\n",
       "    </tr>\n",
       "  </tbody>\n",
       "</table>\n",
       "<p>214 rows × 3 columns</p>\n",
       "</div>"
      ],
      "text/plain": [
       "    Published_Name                                              Title  \\\n",
       "0      申庭田田初级护师加油站                          护理操作示范视频-CPR#护士 #护士懂护士#护考   \n",
       "1            急救大白叔         大白叔解惑：CPR时，胸外按压“怎么按”？ #急救#科普 #心肺复苏 #救人 #热门   \n",
       "2            浙江名医馆      心肺复苏（CPR）有哪些要点？快来跟着医护一起学 #心肺复苏 #健康科普 #CPR #教学   \n",
       "3          崇州市中医医院  接上期视频，所以“正确的CPR该怎么做？” 以上是我院杨露、周珊、廖小儀在成都护理学会举办的...   \n",
       "4           护你一世周全      心肺复苏，一个人人都应该会的抢救生命技能，但愿永远用不上#医学知识科普 #急救 #急救技能   \n",
       "..             ...                                                ...   \n",
       "209         应急救护师资                                                      \n",
       "210             玉玊                         心肺复苏技能的示范、练习，绝对禁止在真人身上做！！！   \n",
       "211       rcyy2020                                  瑞成小课堂 #心肺复苏 #急救技能   \n",
       "212           晓晓晓星  人人学急救，急救为人人。急救小课堂开课啦！全新的急协为你带来的cpr操作步骤展示。生命无彩排...   \n",
       "213            @开心                    CPR急救早已纳入国民教学，人人学急救，急救为人人，愿人人安康   \n",
       "\n",
       "                                                 link  \n",
       "0    https://www.douyin.com/video/7110119828421184775  \n",
       "1    https://www.douyin.com/video/7002210199243066665  \n",
       "2    https://www.douyin.com/video/7220715900591148348  \n",
       "3    https://www.douyin.com/video/7174010618868010255  \n",
       "4    https://www.douyin.com/video/7028796209082928420  \n",
       "..                                                ...  \n",
       "209  https://www.douyin.com/video/6952157281882623263  \n",
       "210  https://www.douyin.com/video/6612620789613071629  \n",
       "211  https://www.douyin.com/video/7005481163515006244  \n",
       "212  https://www.douyin.com/video/7170681336825400580  \n",
       "213  https://www.douyin.com/video/6931702565092527363  \n",
       "\n",
       "[214 rows x 3 columns]"
      ]
     },
     "execution_count": 15,
     "metadata": {},
     "output_type": "execute_result"
    }
   ],
   "source": [
    "df"
   ]
  },
  {
   "cell_type": "code",
   "execution_count": 16,
   "metadata": {},
   "outputs": [],
   "source": [
    "driver.close()"
   ]
  },
  {
   "cell_type": "code",
   "execution_count": 17,
   "metadata": {},
   "outputs": [],
   "source": [
    "df.to_csv('douyin.csv', index=False, encoding='utf-8-sig')"
   ]
  }
 ],
 "metadata": {
  "kernelspec": {
   "display_name": "base",
   "language": "python",
   "name": "python3"
  },
  "language_info": {
   "codemirror_mode": {
    "name": "ipython",
    "version": 3
   },
   "file_extension": ".py",
   "mimetype": "text/x-python",
   "name": "python",
   "nbconvert_exporter": "python",
   "pygments_lexer": "ipython3",
   "version": "3.10.9"
  },
  "orig_nbformat": 4
 },
 "nbformat": 4,
 "nbformat_minor": 2
}
