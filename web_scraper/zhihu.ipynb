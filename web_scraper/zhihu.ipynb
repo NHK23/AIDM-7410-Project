{
 "cells": [
  {
   "cell_type": "code",
   "execution_count": 100,
   "metadata": {},
   "outputs": [],
   "source": [
    "import pandas as pd\n",
    "import numpy as np\n",
    "import time\n",
    "from selenium import webdriver\n",
    "from selenium.webdriver.common.by import By\n",
    "from selenium.common.exceptions import NoSuchElementException\n",
    "import undetected_chromedriver as uc\n",
    "from selenium.webdriver.chrome.options import Options"
   ]
  },
  {
   "cell_type": "code",
   "execution_count": 22,
   "metadata": {},
   "outputs": [],
   "source": [
    "# driver = webdriver.Chrome()\n",
    "chrome_options = Options()\n",
    "driver = uc.Chrome(options=chrome_options)"
   ]
  },
  {
   "attachments": {},
   "cell_type": "markdown",
   "metadata": {},
   "source": [
    "### 知乎搜索 cpr 女性"
   ]
  },
  {
   "cell_type": "code",
   "execution_count": 72,
   "metadata": {},
   "outputs": [],
   "source": [
    "# 滑轮下拉到底部\n",
    "def scroll_down(driver, XPATH_INFO):\n",
    "    items = driver.find_elements(By.XPATH, XPATH_INFO)\n",
    "    prev_len = 0\n",
    "    curr_len = len(items)\n",
    "    first_time = 0\n",
    "\n",
    "    while True:\n",
    "        if prev_len != curr_len or first_time < 2:\n",
    "            # 上滑下滑防止加载不出来\n",
    "            driver.execute_script(\"window.scrollTo(0, document.body.scrollHeight);\")\n",
    "            time.sleep(1)\n",
    "            driver.execute_script(\"window.scrollTo(0, 0);\")\n",
    "            time.sleep(1)\n",
    "            items = driver.find_elements(By.XPATH, XPATH_INFO)\n",
    "            prev_len = curr_len\n",
    "            curr_len = len(items)\n",
    "            first_time += 1\n",
    "        else:\n",
    "            break \n",
    "    \n",
    "    return items"
   ]
  },
  {
   "cell_type": "code",
   "execution_count": null,
   "metadata": {},
   "outputs": [],
   "source": [
    "driver.get('https://www.zhihu.com/search?type=content&q=cpr%20%E5%A5%B3%E6%80%A7')\n",
    "time.sleep(3)"
   ]
  },
  {
   "cell_type": "code",
   "execution_count": 75,
   "metadata": {},
   "outputs": [],
   "source": [
    "# 下拉到底部, 加载所有数据\n",
    "items = scroll_down(driver, '//div[@class=\"Card SearchResult-Card\"]')"
   ]
  },
  {
   "cell_type": "code",
   "execution_count": null,
   "metadata": {},
   "outputs": [],
   "source": [
    "df = pd.DataFrame(columns=['title', 'content', 'comment number', 'link'])"
   ]
  },
  {
   "cell_type": "code",
   "execution_count": null,
   "metadata": {},
   "outputs": [],
   "source": [
    "for item in items:\n",
    "    # 如果有阅读全文, 点击阅读全文\n",
    "    try:\n",
    "        read_more = item.find_element(By.XPATH, './/button[@class=\"Button ContentItem-more FEfUrdfMIKpQDJDqkjte Button--plain fEPKGkUK5jyc4fUuT0QP\"]')\n",
    "        read_more.click()\n",
    "        time.sleep(2)\n",
    "    except:\n",
    "        0\n",
    "\n",
    "    # 获取标题和链接\n",
    "    try:\n",
    "        title = item.find_element(By.XPATH, './/span[@class=\"Highlight\"]').text\n",
    "        link = item.find_element(By.XPATH, './/a[@target=\"_blank\"]').get_attribute('href')\n",
    "        content = item.find_element(By.XPATH, './/div[@class=\"RichContent-inner\"]').text\n",
    "        df.loc[len(df), 'title'] = title\n",
    "        df.loc[len(df) - 1, 'link'] = link\n",
    "        df.loc[len(df) - 1, 'content'] = content\n",
    "    except:\n",
    "        0\n",
    "\n",
    "    # 获取评论数\n",
    "    try:\n",
    "        comment_number = item.find_element(By.XPATH, './/button[@class=\"Button ContentItem-action FEfUrdfMIKpQDJDqkjte Button--plain Button--withIcon Button--withLabel fEPKGkUK5jyc4fUuT0QP B46v1Ak6Gj5sL2JTS4PY RuuQ6TOh2cRzJr6WlyQp\"]').text\n",
    "        df.loc[len(df) - 1, 'comment number'] = comment_number\n",
    "    except:\n",
    "        0"
   ]
  },
  {
   "cell_type": "code",
   "execution_count": null,
   "metadata": {},
   "outputs": [],
   "source": [
    "df.to_csv('zhihu.csv', index=False, encoding='utf-8-sig')\n",
    "df.head(2)"
   ]
  },
  {
   "attachments": {},
   "cell_type": "markdown",
   "metadata": {},
   "source": [
    "### 清理数据"
   ]
  },
  {
   "cell_type": "code",
   "execution_count": 3,
   "metadata": {},
   "outputs": [],
   "source": [
    "def replace_with_nan(text):\n",
    "    if isinstance(text, str) and '添加评论' in text:\n",
    "        return np.nan\n",
    "    return text"
   ]
  },
  {
   "cell_type": "code",
   "execution_count": 4,
   "metadata": {},
   "outputs": [],
   "source": [
    "def split_and_convert_to_int(text):\n",
    "    if isinstance(text, str):\n",
    "        split_text = text.split('条')[0]\n",
    "        try:\n",
    "            return int(split_text)\n",
    "        except ValueError:\n",
    "            0\n",
    "    return text"
   ]
  },
  {
   "cell_type": "code",
   "execution_count": 5,
   "metadata": {},
   "outputs": [
    {
     "data": {
      "text/html": [
       "<div>\n",
       "<style scoped>\n",
       "    .dataframe tbody tr th:only-of-type {\n",
       "        vertical-align: middle;\n",
       "    }\n",
       "\n",
       "    .dataframe tbody tr th {\n",
       "        vertical-align: top;\n",
       "    }\n",
       "\n",
       "    .dataframe thead th {\n",
       "        text-align: right;\n",
       "    }\n",
       "</style>\n",
       "<table border=\"1\" class=\"dataframe\">\n",
       "  <thead>\n",
       "    <tr style=\"text-align: right;\">\n",
       "      <th></th>\n",
       "      <th>title</th>\n",
       "      <th>content</th>\n",
       "      <th>comment number</th>\n",
       "      <th>link</th>\n",
       "    </tr>\n",
       "  </thead>\n",
       "  <tbody>\n",
       "    <tr>\n",
       "      <th>0</th>\n",
       "      <td>怎么给戴的bra的女性做CPR？</td>\n",
       "      <td>鸡糟的黄医桑：为毛要邀请我回答这种问题？ 我是正经医生，不开车的(๑˙ー˙๑) 自己看图啊—...</td>\n",
       "      <td>75.0</td>\n",
       "      <td>https://www.zhihu.com/question/56807265/answer...</td>\n",
       "    </tr>\n",
       "    <tr>\n",
       "      <th>1</th>\n",
       "      <td>假如你是一个本科刚毕业的医学生，路上突然有人需要CPR，你会怎么办？</td>\n",
       "      <td>讲一个真实的案例。\\n一个医生，出去游泳，遇到人溺水，CPR之后把溺水的人拖回医院抢救，没抢...</td>\n",
       "      <td>11.0</td>\n",
       "      <td>https://www.zhihu.com/question/433206267/answe...</td>\n",
       "    </tr>\n",
       "    <tr>\n",
       "      <th>2</th>\n",
       "      <td>如何看待火车站女大学生行CPR跪地救人的微博评价？</td>\n",
       "      <td>不邀自来。\\n利益相关：曾经的4年临床急诊ICU护士。\\n首先，对楼主被责骂表示同情。没错，...</td>\n",
       "      <td>8.0</td>\n",
       "      <td>https://www.zhihu.com/question/286371378/answe...</td>\n",
       "    </tr>\n",
       "    <tr>\n",
       "      <th>3</th>\n",
       "      <td>女朋友是护士经常会给别的异性做人工呼吸，有点接受不了怎么办？</td>\n",
       "      <td>malus：在医院的话多半直接拐急救进icu了，哪轮得到您女朋友做人工呼吸呢？ 在室外？那没...</td>\n",
       "      <td>6.0</td>\n",
       "      <td>https://www.zhihu.com/question/478361963/answe...</td>\n",
       "    </tr>\n",
       "    <tr>\n",
       "      <th>4</th>\n",
       "      <td>要不要给路上遇到的昏倒女性做CPR，即心肺复苏？</td>\n",
       "      <td>我们会有猫的：终于遇到与本专业有关可以回答的题了！！！ 在中国受过专业心肺复苏训练的人不到百...</td>\n",
       "      <td>3.0</td>\n",
       "      <td>https://www.zhihu.com/question/29457803/answer...</td>\n",
       "    </tr>\n",
       "  </tbody>\n",
       "</table>\n",
       "</div>"
      ],
      "text/plain": [
       "                                title  \\\n",
       "0                    怎么给戴的bra的女性做CPR？   \n",
       "1  假如你是一个本科刚毕业的医学生，路上突然有人需要CPR，你会怎么办？   \n",
       "2           如何看待火车站女大学生行CPR跪地救人的微博评价？   \n",
       "3      女朋友是护士经常会给别的异性做人工呼吸，有点接受不了怎么办？   \n",
       "4            要不要给路上遇到的昏倒女性做CPR，即心肺复苏？   \n",
       "\n",
       "                                             content  comment number  \\\n",
       "0  鸡糟的黄医桑：为毛要邀请我回答这种问题？ 我是正经医生，不开车的(๑˙ー˙๑) 自己看图啊—...            75.0   \n",
       "1  讲一个真实的案例。\\n一个医生，出去游泳，遇到人溺水，CPR之后把溺水的人拖回医院抢救，没抢...            11.0   \n",
       "2  不邀自来。\\n利益相关：曾经的4年临床急诊ICU护士。\\n首先，对楼主被责骂表示同情。没错，...             8.0   \n",
       "3  malus：在医院的话多半直接拐急救进icu了，哪轮得到您女朋友做人工呼吸呢？ 在室外？那没...             6.0   \n",
       "4  我们会有猫的：终于遇到与本专业有关可以回答的题了！！！ 在中国受过专业心肺复苏训练的人不到百...             3.0   \n",
       "\n",
       "                                                link  \n",
       "0  https://www.zhihu.com/question/56807265/answer...  \n",
       "1  https://www.zhihu.com/question/433206267/answe...  \n",
       "2  https://www.zhihu.com/question/286371378/answe...  \n",
       "3  https://www.zhihu.com/question/478361963/answe...  \n",
       "4  https://www.zhihu.com/question/29457803/answer...  "
      ]
     },
     "execution_count": 5,
     "metadata": {},
     "output_type": "execute_result"
    }
   ],
   "source": [
    "zh_df = pd.read_csv('zhihu.csv')\n",
    "# comment number替换添加评论为空值\n",
    "zh_df['comment number'] = zh_df['comment number'].apply(replace_with_nan)\n",
    "# comment number按照条字分割, 取第一个值，并且不是空值把它转成int类型\n",
    "zh_df['comment number'] = zh_df['comment number'].apply(split_and_convert_to_int)\n",
    "# 按照评论数排序并且重新设定索引\n",
    "zh_df = zh_df.sort_values(by='comment number', ascending=False).reset_index(drop=True)\n",
    "zh_df.head(5)"
   ]
  },
  {
   "attachments": {},
   "cell_type": "markdown",
   "metadata": {},
   "source": [
    "### 选择“怎么给戴的bra的女性做CPR？”和“要不要给路上遇到的昏倒女性做CPR，即心肺复苏？”两个标题来抓去评论"
   ]
  },
  {
   "cell_type": "code",
   "execution_count": 89,
   "metadata": {},
   "outputs": [],
   "source": [
    "# 获取第一条和第五条数据的链接，并保存到list\n",
    "links = zh_df.loc[[0, 4], 'link'].tolist()\n",
    "\n",
    "link = links[0]\n",
    "driver.get(link)\n",
    "time.sleep(2)"
   ]
  },
  {
   "cell_type": "code",
   "execution_count": 90,
   "metadata": {},
   "outputs": [],
   "source": [
    "# 如果有展开全部评论，点击展开全部评论\n",
    "try:\n",
    "    expand_all = driver.find_element(By.XPATH, './/a[@class=\"QuestionMainAction ViewAll-QuestionMainAction\"]')\n",
    "    expand_all.click()\n",
    "    time.sleep(2)\n",
    "except:\n",
    "    0\n",
    "\n",
    "# 滑轮下拉到底部\n",
    "items = scroll_down(driver, './/div[@class=\"List-item\"]') "
   ]
  },
  {
   "cell_type": "code",
   "execution_count": 101,
   "metadata": {},
   "outputs": [],
   "source": [
    "# 初始化\n",
    "df = pd.DataFrame(columns=['topic', 'comment', 'agree number'])"
   ]
  },
  {
   "cell_type": "code",
   "execution_count": 102,
   "metadata": {},
   "outputs": [],
   "source": [
    "# 获取话题 + 评论 + 赞同数\n",
    "for item in items:\n",
    "    # 获取话题\n",
    "    try:\n",
    "        topic = item.find_element(By.XPATH, './/div[@class=\"RichContent-inner\"]').text\n",
    "        df.loc[len(df), 'topic'] = topic\n",
    "    except:\n",
    "        0\n",
    "\n",
    "    # 获取赞同数\n",
    "    try:\n",
    "        agree_number = item.find_element(By.XPATH, './/span[@class=\"Voters\"]//button[@type=\"button\"]').text.split(' ')[0]\n",
    "        df.loc[len(df) - 1, 'agree number'] = agree_number\n",
    "    except:\n",
    "        0\n",
    "\n",
    "    # 如果有评论，展开评论\n",
    "    try:     \n",
    "        expand_comment = item.find_elements(By.XPATH, './/div[@class=\"ContentItem-actions\"]//button[@type=\"button\"]')[2]\n",
    "        if '添加评论' not in expand_comment.text and '收起评论' not in expand_comment.text:\n",
    "            expand_comment.click()\n",
    "            time.sleep(2)\n",
    "    except:\n",
    "        0\n",
    "\n",
    "    # 获取评论\n",
    "    try:\n",
    "        comment = ''\n",
    "        for sub_item in item.find_elements(By.XPATH, './/div[@class=\"css-14nvvry\"]//div[@class=\"CommentContent css-1ygdre8\"]'):\n",
    "            comment += sub_item.text\n",
    "        df.loc[len(df) - 1, 'comment'] = comment\n",
    "    except:\n",
    "        0"
   ]
  },
  {
   "cell_type": "code",
   "execution_count": 108,
   "metadata": {},
   "outputs": [
    {
     "data": {
      "text/html": [
       "<div>\n",
       "<style scoped>\n",
       "    .dataframe tbody tr th:only-of-type {\n",
       "        vertical-align: middle;\n",
       "    }\n",
       "\n",
       "    .dataframe tbody tr th {\n",
       "        vertical-align: top;\n",
       "    }\n",
       "\n",
       "    .dataframe thead th {\n",
       "        text-align: right;\n",
       "    }\n",
       "</style>\n",
       "<table border=\"1\" class=\"dataframe\">\n",
       "  <thead>\n",
       "    <tr style=\"text-align: right;\">\n",
       "      <th></th>\n",
       "      <th>topic</th>\n",
       "      <th>comment</th>\n",
       "      <th>agree number</th>\n",
       "    </tr>\n",
       "  </thead>\n",
       "  <tbody>\n",
       "    <tr>\n",
       "      <th>0</th>\n",
       "      <td>为毛要邀请我回答这种问题？\\n我是正经医生，不开车的(๑˙ー˙๑)\\n自己看图啊——\\n\\n...</td>\n",
       "      <td>薛定谔的巨乳妹子:处于妹子与尸体的中间状态，如果不动色心抢救可能还是巨乳妹子，如果动色心延误...</td>\n",
       "      <td>283</td>\n",
       "    </tr>\n",
       "    <tr>\n",
       "      <th>1</th>\n",
       "      <td>设定：\\n在地铁站发现一美女突然昏倒\\n先呼救，确定人没有呼吸和脉搏了和意识，打120\\n把...</td>\n",
       "      <td></td>\n",
       "      <td>55</td>\n",
       "    </tr>\n",
       "    <tr>\n",
       "      <th>2</th>\n",
       "      <td>要把bra脱掉，为了后续用AED方便，因为AED需要裸露的皮肤且避免金属导电。\\n但是要注意...</td>\n",
       "      <td>急救课上有一项就是人文关怀(˶‾᷄ ⁻̫ ‾᷅˵)做完CPR后一定要把人家衣服盖好，注意保护...</td>\n",
       "      <td>14</td>\n",
       "    </tr>\n",
       "  </tbody>\n",
       "</table>\n",
       "</div>"
      ],
      "text/plain": [
       "                                               topic  \\\n",
       "0  为毛要邀请我回答这种问题？\\n我是正经医生，不开车的(๑˙ー˙๑)\\n自己看图啊——\\n\\n...   \n",
       "1  设定：\\n在地铁站发现一美女突然昏倒\\n先呼救，确定人没有呼吸和脉搏了和意识，打120\\n把...   \n",
       "2  要把bra脱掉，为了后续用AED方便，因为AED需要裸露的皮肤且避免金属导电。\\n但是要注意...   \n",
       "\n",
       "                                             comment agree number  \n",
       "0  薛定谔的巨乳妹子:处于妹子与尸体的中间状态，如果不动色心抢救可能还是巨乳妹子，如果动色心延误...          283  \n",
       "1                                                              55  \n",
       "2  急救课上有一项就是人文关怀(˶‾᷄ ⁻̫ ‾᷅˵)做完CPR后一定要把人家衣服盖好，注意保护...           14  "
      ]
     },
     "execution_count": 108,
     "metadata": {},
     "output_type": "execute_result"
    }
   ],
   "source": [
    "df.to_csv('zhihu_topic_1.csv', index=False, encoding='utf-8-sig')\n",
    "df.head(3)"
   ]
  },
  {
   "cell_type": "code",
   "execution_count": 109,
   "metadata": {},
   "outputs": [],
   "source": [
    "link = links[1]\n",
    "driver.get(link)\n",
    "time.sleep(2)"
   ]
  },
  {
   "cell_type": "code",
   "execution_count": 110,
   "metadata": {},
   "outputs": [],
   "source": [
    "# 如果有展开全部评论，点击展开全部评论\n",
    "try:\n",
    "    expand_all = driver.find_element(By.XPATH, './/a[@class=\"QuestionMainAction ViewAll-QuestionMainAction\"]')\n",
    "    expand_all.click()\n",
    "    time.sleep(2)\n",
    "except:\n",
    "    0\n",
    "\n",
    "# 滑轮下拉到底部\n",
    "items = scroll_down(driver, './/div[@class=\"List-item\"]') "
   ]
  },
  {
   "cell_type": "code",
   "execution_count": 111,
   "metadata": {},
   "outputs": [],
   "source": [
    "# 初始化\n",
    "df = pd.DataFrame(columns=['topic', 'comment', 'agree number'])"
   ]
  },
  {
   "cell_type": "code",
   "execution_count": 112,
   "metadata": {},
   "outputs": [],
   "source": [
    "# 获取话题 + 评论 + 赞同数\n",
    "for item in items:\n",
    "    # 获取话题\n",
    "    try:\n",
    "        topic = item.find_element(By.XPATH, './/div[@class=\"RichContent-inner\"]').text\n",
    "        df.loc[len(df), 'topic'] = topic\n",
    "    except:\n",
    "        0\n",
    "\n",
    "    # 获取赞同数\n",
    "    try:\n",
    "        agree_number = item.find_element(By.XPATH, './/span[@class=\"Voters\"]//button[@type=\"button\"]').text.split(' ')[0]\n",
    "        df.loc[len(df) - 1, 'agree number'] = agree_number\n",
    "    except:\n",
    "        0\n",
    "\n",
    "    # 如果有评论，展开评论\n",
    "    try:     \n",
    "        expand_comment = item.find_elements(By.XPATH, './/div[@class=\"ContentItem-actions\"]//button[@type=\"button\"]')[2]\n",
    "        if '添加评论' not in expand_comment.text and '收起评论' not in expand_comment.text:\n",
    "            expand_comment.click()\n",
    "            time.sleep(2)\n",
    "    except:\n",
    "        0\n",
    "\n",
    "    # 获取评论\n",
    "    try:\n",
    "        comment = ''\n",
    "        for sub_item in item.find_elements(By.XPATH, './/div[@class=\"css-14nvvry\"]//div[@class=\"CommentContent css-1ygdre8\"]'):\n",
    "            comment += sub_item.text\n",
    "        df.loc[len(df) - 1, 'comment'] = comment\n",
    "    except:\n",
    "        0"
   ]
  },
  {
   "cell_type": "code",
   "execution_count": 113,
   "metadata": {},
   "outputs": [
    {
     "data": {
      "text/html": [
       "<div>\n",
       "<style scoped>\n",
       "    .dataframe tbody tr th:only-of-type {\n",
       "        vertical-align: middle;\n",
       "    }\n",
       "\n",
       "    .dataframe tbody tr th {\n",
       "        vertical-align: top;\n",
       "    }\n",
       "\n",
       "    .dataframe thead th {\n",
       "        text-align: right;\n",
       "    }\n",
       "</style>\n",
       "<table border=\"1\" class=\"dataframe\">\n",
       "  <thead>\n",
       "    <tr style=\"text-align: right;\">\n",
       "      <th></th>\n",
       "      <th>topic</th>\n",
       "      <th>comment</th>\n",
       "      <th>agree number</th>\n",
       "    </tr>\n",
       "  </thead>\n",
       "  <tbody>\n",
       "    <tr>\n",
       "      <th>0</th>\n",
       "      <td>其实衣服未必需要全部扒开（最关键的在衣领，目的在于开放气道），而且严格来说口对口人工呼吸也是...</td>\n",
       "      <td>口对口还能传染艾滋?我书读的少，你不要骗我有过因为接吻感染AIDS的事例，推测原因是嘴唇或口...</td>\n",
       "      <td>10</td>\n",
       "    </tr>\n",
       "    <tr>\n",
       "      <th>1</th>\n",
       "      <td>终于遇到与本专业有关可以回答的题了！！！\\n在中国受过专业心肺复苏训练的人不到百分之一，所以...</td>\n",
       "      <td>嗯？！为什么答主说按压的部位是在两乳连线下方啊……表示这几天看的教学视频告诉我是在两乳连线的...</td>\n",
       "      <td>13</td>\n",
       "    </tr>\n",
       "    <tr>\n",
       "      <th>2</th>\n",
       "      <td>1.从社会角度讲\\n一定要救！\\n因为如果碰到有需要急救的情况，知道急救手段，有急救条件而不...</td>\n",
       "      <td></td>\n",
       "      <td>2</td>\n",
       "    </tr>\n",
       "  </tbody>\n",
       "</table>\n",
       "</div>"
      ],
      "text/plain": [
       "                                               topic  \\\n",
       "0  其实衣服未必需要全部扒开（最关键的在衣领，目的在于开放气道），而且严格来说口对口人工呼吸也是...   \n",
       "1  终于遇到与本专业有关可以回答的题了！！！\\n在中国受过专业心肺复苏训练的人不到百分之一，所以...   \n",
       "2  1.从社会角度讲\\n一定要救！\\n因为如果碰到有需要急救的情况，知道急救手段，有急救条件而不...   \n",
       "\n",
       "                                             comment agree number  \n",
       "0  口对口还能传染艾滋?我书读的少，你不要骗我有过因为接吻感染AIDS的事例，推测原因是嘴唇或口...           10  \n",
       "1  嗯？！为什么答主说按压的部位是在两乳连线下方啊……表示这几天看的教学视频告诉我是在两乳连线的...           13  \n",
       "2                                                               2  "
      ]
     },
     "execution_count": 113,
     "metadata": {},
     "output_type": "execute_result"
    }
   ],
   "source": [
    "df.to_csv('zhihu_topic_2.csv', index=False, encoding='utf-8-sig')\n",
    "df.head(3)"
   ]
  },
  {
   "cell_type": "code",
   "execution_count": null,
   "metadata": {},
   "outputs": [],
   "source": [
    "driver.close()"
   ]
  }
 ],
 "metadata": {
  "kernelspec": {
   "display_name": "base",
   "language": "python",
   "name": "python3"
  },
  "language_info": {
   "codemirror_mode": {
    "name": "ipython",
    "version": 3
   },
   "file_extension": ".py",
   "mimetype": "text/x-python",
   "name": "python",
   "nbconvert_exporter": "python",
   "pygments_lexer": "ipython3",
   "version": "3.10.9"
  },
  "orig_nbformat": 4
 },
 "nbformat": 4,
 "nbformat_minor": 2
}
